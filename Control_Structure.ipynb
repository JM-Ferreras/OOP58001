{
  "nbformat": 4,
  "nbformat_minor": 0,
  "metadata": {
    "colab": {
      "provenance": [],
      "authorship_tag": "ABX9TyMZfwx3FEb19iaAPmukNtbd",
      "include_colab_link": true
    },
    "kernelspec": {
      "name": "python3",
      "display_name": "Python 3"
    },
    "language_info": {
      "name": "python"
    }
  },
  "cells": [
    {
      "cell_type": "markdown",
      "metadata": {
        "id": "view-in-github",
        "colab_type": "text"
      },
      "source": [
        "<a href=\"https://colab.research.google.com/github/JM-Ferreras/OOP58001/blob/main/Control_Structure.ipynb\" target=\"_parent\"><img src=\"https://colab.research.google.com/assets/colab-badge.svg\" alt=\"Open In Colab\"/></a>"
      ]
    },
    {
      "cell_type": "markdown",
      "source": [
        "**If Statement**"
      ],
      "metadata": {
        "id": "UZh-E-TADkbD"
      }
    },
    {
      "cell_type": "code",
      "execution_count": 1,
      "metadata": {
        "colab": {
          "base_uri": "https://localhost:8080/"
        },
        "id": "qwtZr4FmDieB",
        "outputId": "a95aa3ca-6391-4f7b-eb3c-5129cceae71a"
      },
      "outputs": [
        {
          "output_type": "stream",
          "name": "stdout",
          "text": [
            "b is greater than a\n"
          ]
        }
      ],
      "source": [
        "a=12\n",
        "b=100\n",
        "if b>a:\n",
        "  print(\"b is greater than a\")"
      ]
    },
    {
      "cell_type": "code",
      "source": [
        "x=input()\n",
        "y=input()\n",
        "if x>y:\n",
        "  print(x+\" is greater than \"+y)\n"
      ],
      "metadata": {
        "colab": {
          "base_uri": "https://localhost:8080/"
        },
        "id": "_GMxlwEpGJWT",
        "outputId": "8df42452-7d83-4016-eaab-1ef51e039df2"
      },
      "execution_count": 12,
      "outputs": [
        {
          "output_type": "stream",
          "name": "stdout",
          "text": [
            "5\n",
            "3\n",
            "5 is greater than 3\n"
          ]
        }
      ]
    },
    {
      "cell_type": "markdown",
      "source": [
        "**Elif statement**"
      ],
      "metadata": {
        "id": "eSn7E45dEoIi"
      }
    },
    {
      "cell_type": "code",
      "source": [
        "a=12\n",
        "b=12\n",
        "if b>a:\n",
        "  print(\"b is greater than a\")\n",
        "elif a==b:\n",
        "  print(\"a and b are equal\")"
      ],
      "metadata": {
        "colab": {
          "base_uri": "https://localhost:8080/"
        },
        "id": "Df65s-V1Er6B",
        "outputId": "8e60e39e-6a41-4e11-ad45-68c2d556fcc3"
      },
      "execution_count": 2,
      "outputs": [
        {
          "output_type": "stream",
          "name": "stdout",
          "text": [
            "a and b are equal\n"
          ]
        }
      ]
    },
    {
      "cell_type": "code",
      "source": [
        "a=100\n",
        "b=50\n",
        "if a>b:\n",
        "  print(\"a is greater than b\")\n",
        "elif b>a:\n",
        "  print(\"b is greater than b\")"
      ],
      "metadata": {
        "colab": {
          "base_uri": "https://localhost:8080/"
        },
        "outputId": "2429151e-c484-42a4-a601-e2e5a2cfb0eb",
        "id": "wq42obp4HsGa"
      },
      "execution_count": 13,
      "outputs": [
        {
          "output_type": "stream",
          "name": "stdout",
          "text": [
            "a is greater than b\n"
          ]
        }
      ]
    },
    {
      "cell_type": "markdown",
      "source": [
        "**Else Statement**"
      ],
      "metadata": {
        "id": "33DTnMSlE8xK"
      }
    },
    {
      "cell_type": "code",
      "source": [
        "a=200\n",
        "b=33\n",
        "if(b>a):\n",
        "  print(\"b is greater than a\")\n",
        "elif(b==a):\n",
        "  print(\"b is equal to a\")\n",
        "else\n",
        "  print(\"a is greater than b\")"
      ],
      "metadata": {
        "id": "LxtOTE_gFANC"
      },
      "execution_count": 4,
      "outputs": []
    },
    {
      "cell_type": "code",
      "source": [
        "a=100\n",
        "b=100\n",
        "if a>b:\n",
        "  print(\"a is greater than b\")\n",
        "elif b>a:\n",
        "  print(\"b is greater than b\")\n",
        "else:\n",
        "  print(\"a and b are equal\")"
      ],
      "metadata": {
        "colab": {
          "base_uri": "https://localhost:8080/"
        },
        "outputId": "2f39fe2c-d71e-4d9e-fba2-5b027a3b1cd8",
        "id": "rqmHyfZhIIY6"
      },
      "execution_count": 14,
      "outputs": [
        {
          "output_type": "stream",
          "name": "stdout",
          "text": [
            "a and b are equal\n"
          ]
        }
      ]
    },
    {
      "cell_type": "markdown",
      "source": [
        "**Nested if**"
      ],
      "metadata": {
        "id": "8HwFPvg4Iraa"
      }
    },
    {
      "cell_type": "code",
      "source": [
        "x=41\n",
        "\n",
        "if x>10:\n",
        "  print(\"above ten\")\n",
        "  if x>20:\n",
        "    print(\"and also above 20\")\n",
        "    if x>30:\n",
        "      print(\"and also above 30\")\n",
        "      if x>40:\n",
        "        print(\"and also above 40\")\n",
        "        if x>50:\n",
        "          print(\"and also above 50\")\n",
        "        else:\n",
        "          print(\"below 50\")\n",
        "      else:\n",
        "        print(\"below 40\")\n",
        "    else:\n",
        "      print(\"below 30\")\n",
        "  else:\n",
        "    print(\"but not above 20\")"
      ],
      "metadata": {
        "colab": {
          "base_uri": "https://localhost:8080/"
        },
        "id": "MOajruTdItn5",
        "outputId": "38b30ff1-6bac-49cc-9469-4f1d30a90422"
      },
      "execution_count": 25,
      "outputs": [
        {
          "output_type": "stream",
          "name": "stdout",
          "text": [
            "above ten\n",
            "and also above 20\n",
            "and also above 30\n",
            "and also above 40\n",
            "below 50\n"
          ]
        }
      ]
    },
    {
      "cell_type": "markdown",
      "source": [
        "**Example 1**"
      ],
      "metadata": {
        "id": "y9W9OcCmMSvy"
      }
    },
    {
      "cell_type": "code",
      "source": [
        "print(\"Input age:\")\n",
        "x=int(input())\n",
        "if x>=18:\n",
        "  print(\"you are qualified to vote\")\n",
        "else:\n",
        "  print(\"you are not qualified to vote, minor moments\")"
      ],
      "metadata": {
        "colab": {
          "base_uri": "https://localhost:8080/"
        },
        "id": "w0sAkO7oJZkC",
        "outputId": "2b618e49-7c38-4947-cce5-8c6e46b98acb"
      },
      "execution_count": 32,
      "outputs": [
        {
          "output_type": "stream",
          "name": "stdout",
          "text": [
            "Input age:\n",
            "18\n",
            "you are qualified to vote\n"
          ]
        }
      ]
    },
    {
      "cell_type": "markdown",
      "source": [
        "**Example 2**"
      ],
      "metadata": {
        "id": "Hp-4eNulN2jq"
      }
    },
    {
      "cell_type": "code",
      "source": [
        "print(\"Input number:\")\n",
        "x=int(input())\n",
        "if x<0:\n",
        "  print(\"x is a negative number\")\n",
        "elif x==0:\n",
        "  print(\"x is a zero\")\n",
        "else:\n",
        "  print(\"x is a positive number\")"
      ],
      "metadata": {
        "colab": {
          "base_uri": "https://localhost:8080/"
        },
        "id": "DyHo8H58N5bp",
        "outputId": "61aa6eeb-8ca0-4bfa-d9e2-94e8be3d0823"
      },
      "execution_count": 37,
      "outputs": [
        {
          "output_type": "stream",
          "name": "stdout",
          "text": [
            "Input number:\n",
            "7\n",
            "x is a positive number\n"
          ]
        }
      ]
    },
    {
      "cell_type": "markdown",
      "source": [
        "**Example 3**"
      ],
      "metadata": {
        "id": "Y2aCXDWpQO4S"
      }
    },
    {
      "cell_type": "code",
      "source": [
        "print(\"Input grade:\")\n",
        "x=int(input())\n",
        "if x>=70:\n",
        "  print(\"Passed\")\n",
        "elif x<70 and x>64 :\n",
        "  print(\"Remedial\")\n",
        "elif x>=64:\n",
        "  print(\"Failed\")\n",
        "else:\n",
        "  print(\"invalid input\")\n",
        "\n",
        "\n"
      ],
      "metadata": {
        "colab": {
          "base_uri": "https://localhost:8080/"
        },
        "id": "ZqgZg_IEOtcC",
        "outputId": "a5de825a-1dae-470f-d945-c7cd02b280c5"
      },
      "execution_count": 46,
      "outputs": [
        {
          "output_type": "stream",
          "name": "stdout",
          "text": [
            "78\n",
            "Passed\n"
          ]
        }
      ]
    }
  ]
}