{
  "nbformat": 4,
  "nbformat_minor": 0,
  "metadata": {
    "colab": {
      "provenance": [],
      "authorship_tag": "ABX9TyOIdS08KCNqxKLU8hHo3U7G",
      "include_colab_link": true
    },
    "kernelspec": {
      "name": "python3",
      "display_name": "Python 3"
    },
    "language_info": {
      "name": "python"
    }
  },
  "cells": [
    {
      "cell_type": "markdown",
      "metadata": {
        "id": "view-in-github",
        "colab_type": "text"
      },
      "source": [
        "<a href=\"https://colab.research.google.com/github/JM-Ferreras/OOP58001/blob/main/Laboratory%202.ipynb\" target=\"_parent\"><img src=\"https://colab.research.google.com/assets/colab-badge.svg\" alt=\"Open In Colab\"/></a>"
      ]
    },
    {
      "cell_type": "code",
      "execution_count": null,
      "metadata": {
        "colab": {
          "base_uri": "https://localhost:8080/"
        },
        "id": "i6vfsLYWqN7P",
        "outputId": "5d85fc5b-7941-4c4f-ff0b-7acfa71fd866"
      },
      "outputs": [
        {
          "output_type": "stream",
          "name": "stdout",
          "text": [
            "Give a radius:17\n",
            "The given circle has a perimeter of 106.81415022205297 and a circumference of 907.9202768874502\n"
          ]
        }
      ],
      "source": [
        "import math\n",
        "\n",
        "class circle:\n",
        "  def __init__(atr, radius):\n",
        "    atr.radius=radius\n",
        "    atr.pi=math.pi\n",
        "  def perimeter(atr):\n",
        "    return 2*atr.pi*atr.radius\n",
        "  def area(atr):\n",
        "    return atr.pi*(atr.radius**2)\n",
        "  def display(atr):\n",
        "    return print(\"The given circle has a perimeter of\", atr.perimeter(), \"and a circumference of\", atr.area())\n",
        "\n",
        "circle1=circle(float(input(\"Give a radius: \")))\n",
        "circle1.display()"
      ]
    }
  ]
}