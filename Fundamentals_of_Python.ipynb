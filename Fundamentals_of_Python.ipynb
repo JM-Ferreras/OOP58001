{
  "nbformat": 4,
  "nbformat_minor": 0,
  "metadata": {
    "colab": {
      "provenance": [],
      "authorship_tag": "ABX9TyNuTrzOHBomIpaBpL32MjMW",
      "include_colab_link": true
    },
    "kernelspec": {
      "name": "python3",
      "display_name": "Python 3"
    },
    "language_info": {
      "name": "python"
    }
  },
  "cells": [
    {
      "cell_type": "markdown",
      "metadata": {
        "id": "view-in-github",
        "colab_type": "text"
      },
      "source": [
        "<a href=\"https://colab.research.google.com/github/JM-Ferreras/OOP58001/blob/main/Fundamentals_of_Python.ipynb\" target=\"_parent\"><img src=\"https://colab.research.google.com/assets/colab-badge.svg\" alt=\"Open In Colab\"/></a>"
      ]
    },
    {
      "cell_type": "markdown",
      "source": [
        "# Fundamentals of Python\n",
        "\n"
      ],
      "metadata": {
        "id": "3tQzxDGYR1hv"
      }
    },
    {
      "cell_type": "markdown",
      "source": [
        "**Comment**"
      ],
      "metadata": {
        "id": "HIal9IUdX6MI"
      }
    },
    {
      "cell_type": "code",
      "source": [
        "#This is a comment\n",
        "print(\"Hello World!\")"
      ],
      "metadata": {
        "colab": {
          "base_uri": "https://localhost:8080/"
        },
        "id": "wBwF-xiVR7NW",
        "outputId": "7360f170-cb1c-46bb-a38c-82de8eeceed4"
      },
      "execution_count": 3,
      "outputs": [
        {
          "output_type": "stream",
          "name": "stdout",
          "text": [
            "Hello World!\n"
          ]
        }
      ]
    },
    {
      "cell_type": "markdown",
      "source": [
        "**Python** **Variable**"
      ],
      "metadata": {
        "id": "frc2LLsnYI53"
      }
    },
    {
      "cell_type": "code",
      "source": [
        "x=1\n",
        "\n",
        "#single value iwht multiple variables\n",
        "array = [1,2,3]\n",
        "print (array)\n",
        "\n",
        "a=b=c=\"Maria\"\n",
        "print(a)\n",
        "print(b)\n",
        "print(c)"
      ],
      "metadata": {
        "colab": {
          "base_uri": "https://localhost:8080/"
        },
        "id": "_8xvtdjwTwsv",
        "outputId": "c698638d-f621-4925-c17a-f690557f4db2"
      },
      "execution_count": 10,
      "outputs": [
        {
          "output_type": "stream",
          "name": "stdout",
          "text": [
            "[1, 2, 3]\n",
            "Maria\n",
            "Maria\n",
            "Maria\n"
          ]
        }
      ]
    },
    {
      "cell_type": "markdown",
      "source": [
        "**String**"
      ],
      "metadata": {
        "id": "ENgzVBeOYWno"
      }
    },
    {
      "cell_type": "code",
      "source": [
        "c = \"sally\"\n",
        "d = (5.6)\n",
        "\n",
        "print (type(c))\n",
        "print (type(d))\n"
      ],
      "metadata": {
        "colab": {
          "base_uri": "https://localhost:8080/"
        },
        "id": "LHQSFfPLVcHA",
        "outputId": "c0ed8327-3619-4f30-deb0-5eb01e9569b2"
      },
      "execution_count": 13,
      "outputs": [
        {
          "output_type": "stream",
          "name": "stdout",
          "text": [
            "<class 'str'>\n",
            "<class 'float'>\n"
          ]
        }
      ]
    },
    {
      "cell_type": "markdown",
      "source": [
        "**Casting**"
      ],
      "metadata": {
        "id": "nOz2Rl7iYsyw"
      }
    },
    {
      "cell_type": "code",
      "source": [
        "n=4\n",
        "print(n)"
      ],
      "metadata": {
        "colab": {
          "base_uri": "https://localhost:8080/"
        },
        "id": "ptfIygcXV4Kf",
        "outputId": "3a801fbc-de81-450a-ac51-8190bdf21713"
      },
      "execution_count": 9,
      "outputs": [
        {
          "output_type": "stream",
          "name": "stdout",
          "text": [
            "4\n"
          ]
        }
      ]
    },
    {
      "cell_type": "markdown",
      "source": [
        "**Conditions**"
      ],
      "metadata": {
        "id": "pd8SiWjUYynw"
      }
    },
    {
      "cell_type": "code",
      "source": [
        "if 5>2:\n",
        "  print(\"5 is greater than 2\")"
      ],
      "metadata": {
        "colab": {
          "base_uri": "https://localhost:8080/"
        },
        "id": "kYY40OaWSzd3",
        "outputId": "49a6ce40-08cb-4315-a77a-ff40c0244da3"
      },
      "execution_count": 5,
      "outputs": [
        {
          "output_type": "stream",
          "name": "stdout",
          "text": [
            "5 is greater than 2\n"
          ]
        }
      ]
    }
  ]
}