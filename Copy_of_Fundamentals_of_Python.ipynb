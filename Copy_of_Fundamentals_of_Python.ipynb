{
  "nbformat": 4,
  "nbformat_minor": 0,
  "metadata": {
    "colab": {
      "provenance": [],
      "authorship_tag": "ABX9TyO+aD+UWVM0kPGshi/FYwLy",
      "include_colab_link": true
    },
    "kernelspec": {
      "name": "python3",
      "display_name": "Python 3"
    },
    "language_info": {
      "name": "python"
    }
  },
  "cells": [
    {
      "cell_type": "markdown",
      "metadata": {
        "id": "view-in-github",
        "colab_type": "text"
      },
      "source": [
        "<a href=\"https://colab.research.google.com/github/JM-Ferreras/OOP58001/blob/main/Copy_of_Fundamentals_of_Python.ipynb\" target=\"_parent\"><img src=\"https://colab.research.google.com/assets/colab-badge.svg\" alt=\"Open In Colab\"/></a>"
      ]
    },
    {
      "cell_type": "markdown",
      "source": [
        "# Fundamentals of Python\n",
        "\n"
      ],
      "metadata": {
        "id": "3tQzxDGYR1hv"
      }
    },
    {
      "cell_type": "markdown",
      "source": [
        "**Indentation**"
      ],
      "metadata": {
        "id": "u_jRSGcRa6Fj"
      }
    },
    {
      "cell_type": "code",
      "source": [
        "if 5>2:\n",
        "  print(\"5 is greater than 2\")"
      ],
      "metadata": {
        "colab": {
          "base_uri": "https://localhost:8080/"
        },
        "id": "kYY40OaWSzd3",
        "outputId": "49a6ce40-08cb-4315-a77a-ff40c0244da3"
      },
      "execution_count": null,
      "outputs": [
        {
          "output_type": "stream",
          "name": "stdout",
          "text": [
            "5 is greater than 2\n"
          ]
        }
      ]
    },
    {
      "cell_type": "markdown",
      "source": [
        "**Python Comment**"
      ],
      "metadata": {
        "id": "HIal9IUdX6MI"
      }
    },
    {
      "cell_type": "code",
      "source": [
        "#This is a comment\n",
        "print(\"Hello World!\")"
      ],
      "metadata": {
        "colab": {
          "base_uri": "https://localhost:8080/"
        },
        "id": "wBwF-xiVR7NW",
        "outputId": "7360f170-cb1c-46bb-a38c-82de8eeceed4"
      },
      "execution_count": null,
      "outputs": [
        {
          "output_type": "stream",
          "name": "stdout",
          "text": [
            "Hello World!\n"
          ]
        }
      ]
    },
    {
      "cell_type": "markdown",
      "source": [
        "**Python** **Variable**"
      ],
      "metadata": {
        "id": "frc2LLsnYI53"
      }
    },
    {
      "cell_type": "code",
      "source": [
        "x=1\n",
        "\n",
        "#single value iwht multiple variables\n",
        "array = [1,2,3]\n",
        "print (array)\n",
        "\n",
        "a=b=c=\"Maria\"\n",
        "print(a)\n",
        "print(b)\n",
        "print(c)"
      ],
      "metadata": {
        "colab": {
          "base_uri": "https://localhost:8080/"
        },
        "id": "_8xvtdjwTwsv",
        "outputId": "c698638d-f621-4925-c17a-f690557f4db2"
      },
      "execution_count": null,
      "outputs": [
        {
          "output_type": "stream",
          "name": "stdout",
          "text": [
            "[1, 2, 3]\n",
            "Maria\n",
            "Maria\n",
            "Maria\n"
          ]
        }
      ]
    },
    {
      "cell_type": "markdown",
      "source": [
        "**Casting**"
      ],
      "metadata": {
        "id": "nOz2Rl7iYsyw"
      }
    },
    {
      "cell_type": "code",
      "source": [
        "n=4\n",
        "print(n)"
      ],
      "metadata": {
        "colab": {
          "base_uri": "https://localhost:8080/"
        },
        "id": "ptfIygcXV4Kf",
        "outputId": "3a801fbc-de81-450a-ac51-8190bdf21713"
      },
      "execution_count": null,
      "outputs": [
        {
          "output_type": "stream",
          "name": "stdout",
          "text": [
            "4\n"
          ]
        }
      ]
    },
    {
      "cell_type": "markdown",
      "source": [
        "**Type()function**"
      ],
      "metadata": {
        "id": "ENgzVBeOYWno"
      }
    },
    {
      "cell_type": "code",
      "source": [
        "c = \"sally\"\n",
        "d = (5.6)\n",
        "\n",
        "print (type(c))\n",
        "print (type(d))\n"
      ],
      "metadata": {
        "colab": {
          "base_uri": "https://localhost:8080/"
        },
        "id": "LHQSFfPLVcHA",
        "outputId": "c0ed8327-3619-4f30-deb0-5eb01e9569b2"
      },
      "execution_count": null,
      "outputs": [
        {
          "output_type": "stream",
          "name": "stdout",
          "text": [
            "<class 'str'>\n",
            "<class 'float'>\n"
          ]
        }
      ]
    },
    {
      "cell_type": "markdown",
      "source": [
        "**\"Double\" quotes or 'Single' quotes**"
      ],
      "metadata": {
        "id": "NlobXcD-CIWX"
      }
    },
    {
      "cell_type": "code",
      "source": [
        "x = \"John\"\n",
        "y = 'John'\n",
        "\n",
        "display (x)\n",
        "display (y)"
      ],
      "metadata": {
        "id": "lfbFuzRfCHJ4",
        "outputId": "a73675b0-0d63-4f93-f10a-0366590e6e0a",
        "colab": {
          "base_uri": "https://localhost:8080/",
          "height": 54
        }
      },
      "execution_count": null,
      "outputs": [
        {
          "output_type": "display_data",
          "data": {
            "text/plain": [
              "'John'"
            ],
            "application/vnd.google.colaboratory.intrinsic+json": {
              "type": "string"
            }
          },
          "metadata": {}
        },
        {
          "output_type": "display_data",
          "data": {
            "text/plain": [
              "'John'"
            ],
            "application/vnd.google.colaboratory.intrinsic+json": {
              "type": "string"
            }
          },
          "metadata": {}
        }
      ]
    },
    {
      "cell_type": "markdown",
      "source": [
        "**Case Sensitive**"
      ],
      "metadata": {
        "id": "7HxwUlrIChdX"
      }
    },
    {
      "cell_type": "code",
      "source": [
        "a = 4\n",
        "A = \"sally\"\n",
        "\n",
        "print (a)\n",
        "print (A)"
      ],
      "metadata": {
        "colab": {
          "base_uri": "https://localhost:8080/"
        },
        "id": "N0edEmEAEL-3",
        "outputId": "bd5606e5-44ce-448d-bb05-c077cd4e1cbe"
      },
      "execution_count": 2,
      "outputs": [
        {
          "output_type": "stream",
          "name": "stdout",
          "text": [
            "4\n",
            "sally\n"
          ]
        }
      ]
    },
    {
      "cell_type": "markdown",
      "source": [
        "**Multiple Variables**"
      ],
      "metadata": {
        "id": "n_3Mb2qtClyg"
      }
    },
    {
      "cell_type": "code",
      "source": [
        "x,y,z = \"one\", \"two\", \"three\"\n",
        "print (x)\n",
        "print (y)\n",
        "print (z)"
      ],
      "metadata": {
        "colab": {
          "base_uri": "https://localhost:8080/"
        },
        "id": "i0EvAl3yEVmW",
        "outputId": "7752c714-397c-4f9b-dcdb-6827e45fbce5"
      },
      "execution_count": 3,
      "outputs": [
        {
          "output_type": "stream",
          "name": "stdout",
          "text": [
            "one\n",
            "two\n",
            "three\n"
          ]
        }
      ]
    },
    {
      "cell_type": "markdown",
      "source": [
        "**One Value to Multiple Variables**"
      ],
      "metadata": {
        "id": "ZbEUIxaQCx9v"
      }
    },
    {
      "cell_type": "code",
      "source": [
        "x= y= z= \"four\"\n",
        "print (x)\n",
        "print (y)\n",
        "print (z)"
      ],
      "metadata": {
        "colab": {
          "base_uri": "https://localhost:8080/"
        },
        "id": "dC4B60DcEj83",
        "outputId": "22fdaabf-d0da-4699-abce-0f9c64f00079"
      },
      "execution_count": 4,
      "outputs": [
        {
          "output_type": "stream",
          "name": "stdout",
          "text": [
            "four\n",
            "four\n"
          ]
        }
      ]
    },
    {
      "cell_type": "markdown",
      "source": [
        "**Arithmetic operators**"
      ],
      "metadata": {
        "id": "-U973Na6FAH_"
      }
    },
    {
      "cell_type": "code",
      "source": [
        "x = 5\n",
        "y = 3\n",
        "print (x+y)\n",
        "\n",
        "sum=x+y\n",
        "sum"
      ],
      "metadata": {
        "colab": {
          "base_uri": "https://localhost:8080/"
        },
        "id": "hW9-V7l5FDwQ",
        "outputId": "bc1de311-96b9-4058-dbf9-0832437f21fd"
      },
      "execution_count": 5,
      "outputs": [
        {
          "output_type": "stream",
          "name": "stdout",
          "text": [
            "8\n"
          ]
        },
        {
          "output_type": "execute_result",
          "data": {
            "text/plain": [
              "8"
            ]
          },
          "metadata": {},
          "execution_count": 5
        }
      ]
    },
    {
      "cell_type": "markdown",
      "source": [
        "**Assignment operators**"
      ],
      "metadata": {
        "id": "yXdpf3zEDFcP"
      }
    },
    {
      "cell_type": "code",
      "source": [
        "a,b,c=0,-1,6\n",
        "c%=3\n",
        "c"
      ],
      "metadata": {
        "colab": {
          "base_uri": "https://localhost:8080/"
        },
        "id": "i_-c-mnsE5ro",
        "outputId": "e7a10f31-c2f6-4400-a2cf-947b8f6e72a6"
      },
      "execution_count": 6,
      "outputs": [
        {
          "output_type": "execute_result",
          "data": {
            "text/plain": [
              "0"
            ]
          },
          "metadata": {},
          "execution_count": 6
        }
      ]
    },
    {
      "cell_type": "markdown",
      "source": [
        "**Comparison operators**"
      ],
      "metadata": {
        "id": "0jRejIGpDXyY"
      }
    },
    {
      "cell_type": "code",
      "source": [
        "x = 5\n",
        "y=2\n",
        "if (x>y):\n",
        "  print (\"5 is greater than 2\")"
      ],
      "metadata": {
        "colab": {
          "base_uri": "https://localhost:8080/"
        },
        "id": "mxwnvlEAFklG",
        "outputId": "585f6e7f-c1db-4737-ff5b-0ef8981e793e"
      },
      "execution_count": 9,
      "outputs": [
        {
          "output_type": "stream",
          "name": "stdout",
          "text": [
            "5 is greater than 2\n"
          ]
        }
      ]
    },
    {
      "cell_type": "markdown",
      "source": [
        "**Logical operators**"
      ],
      "metadata": {
        "id": "YsxLGjH-DhDn"
      }
    },
    {
      "cell_type": "code",
      "source": [
        "x = 68\n",
        "y = 32\n",
        "if (x>10) and (y>10):\n",
        "    print(\"x is greater than 10 and y is greater than 10\")"
      ],
      "metadata": {
        "id": "7rtdEba8CxDf",
        "colab": {
          "base_uri": "https://localhost:8080/"
        },
        "outputId": "e9390ca3-3611-4efc-95a1-aba23caa6522"
      },
      "execution_count": 11,
      "outputs": [
        {
          "output_type": "stream",
          "name": "stdout",
          "text": [
            "68 is greater than 10 and 32 is greater than 10\n"
          ]
        }
      ]
    },
    {
      "cell_type": "code",
      "source": [
        "x = 68\n",
        "y = 32\n",
        "if (x>33) or (y>33):\n",
        "    print(\"either x or y is greater than 32\")"
      ],
      "metadata": {
        "id": "xIkrjNZoGrCQ"
      },
      "execution_count": null,
      "outputs": []
    },
    {
      "cell_type": "code",
      "source": [
        "x = 68\n",
        "y = 32\n",
        "if not(x<10 and y<10):\n",
        "    print(\"x and y is greater than 10\")"
      ],
      "metadata": {
        "colab": {
          "base_uri": "https://localhost:8080/"
        },
        "id": "pgUKYiVfG58X",
        "outputId": "bb3a2c27-5e2f-495c-c4be-2cf58bc84d0c"
      },
      "execution_count": 15,
      "outputs": [
        {
          "output_type": "stream",
          "name": "stdout",
          "text": [
            "x and y is greater than 10\n"
          ]
        }
      ]
    },
    {
      "cell_type": "markdown",
      "source": [
        "**Identity operators**"
      ],
      "metadata": {
        "id": "QwdchtpUDo6A"
      }
    },
    {
      "cell_type": "code",
      "source": [
        "a, b, c = 0, -1, 5\n",
        "a is c"
      ],
      "metadata": {
        "colab": {
          "base_uri": "https://localhost:8080/"
        },
        "id": "7NbaKXD0HhUQ",
        "outputId": "19c18ef3-787e-4d5c-d543-c92c0a147442"
      },
      "execution_count": 19,
      "outputs": [
        {
          "output_type": "execute_result",
          "data": {
            "text/plain": [
              "False"
            ]
          },
          "metadata": {},
          "execution_count": 19
        }
      ]
    }
  ]
}