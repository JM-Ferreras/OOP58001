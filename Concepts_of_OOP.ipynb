{
  "nbformat": 4,
  "nbformat_minor": 0,
  "metadata": {
    "colab": {
      "provenance": [],
      "authorship_tag": "ABX9TyPM3kzRJ5polK0iUT1wzcfz",
      "include_colab_link": true
    },
    "kernelspec": {
      "name": "python3",
      "display_name": "Python 3"
    },
    "language_info": {
      "name": "python"
    }
  },
  "cells": [
    {
      "cell_type": "markdown",
      "metadata": {
        "id": "view-in-github",
        "colab_type": "text"
      },
      "source": [
        "<a href=\"https://colab.research.google.com/github/JM-Ferreras/OOP58001/blob/main/Concepts_of_OOP.ipynb\" target=\"_parent\"><img src=\"https://colab.research.google.com/assets/colab-badge.svg\" alt=\"Open In Colab\"/></a>"
      ]
    },
    {
      "cell_type": "code",
      "execution_count": 2,
      "metadata": {
        "id": "m_Uj8wH0cdS7"
      },
      "outputs": [],
      "source": [
        "#class constructor\n",
        "class Car:\n",
        "  pass"
      ]
    },
    {
      "cell_type": "code",
      "source": [
        "#create a class\n",
        "\n",
        "class MyNumber:\n",
        "  x=5\n",
        "  \n",
        "num1=MyNumber()\n",
        "print(num1.x)"
      ],
      "metadata": {
        "colab": {
          "base_uri": "https://localhost:8080/"
        },
        "id": "rbD7Aq1uga5U",
        "outputId": "9f841af0-60a1-4f2b-971f-ba4df7fd257a"
      },
      "execution_count": 3,
      "outputs": [
        {
          "output_type": "stream",
          "name": "stdout",
          "text": [
            "5\n"
          ]
        }
      ]
    },
    {
      "cell_type": "code",
      "source": [
        "class Person:\n",
        "  def __init__(self,name,age):\n",
        "    self.name=name\n",
        "    self.age=age\n",
        "person=Person(\"onemigz\",\"19\")\n",
        "print(person.age)\n",
        "print(person.name)"
      ],
      "metadata": {
        "colab": {
          "base_uri": "https://localhost:8080/"
        },
        "id": "m2B3IFMFhYcX",
        "outputId": "9b809401-87e9-492b-ed87-f6619175277b"
      },
      "execution_count": 4,
      "outputs": [
        {
          "output_type": "stream",
          "name": "stdout",
          "text": [
            "19\n",
            "onemigz\n"
          ]
        }
      ]
    },
    {
      "cell_type": "code",
      "source": [
        "class Person:\n",
        "  def __init__(self,name,age):\n",
        "    self.name = name\n",
        "    self.age = age\n",
        "  def myFunction(self):\n",
        "    print(\"Hello my name is\",self.name)\n",
        "person= Person(\"onemigz\",\"19\")\n",
        "person.myFunction()"
      ],
      "metadata": {
        "colab": {
          "base_uri": "https://localhost:8080/"
        },
        "id": "--TeoZOihzds",
        "outputId": "5b3742ad-cf33-46ea-b651-8fdde9cd7d53"
      },
      "execution_count": 7,
      "outputs": [
        {
          "output_type": "stream",
          "name": "stdout",
          "text": [
            "Hello my name is onemigz\n"
          ]
        }
      ]
    },
    {
      "cell_type": "code",
      "source": [
        "#modify the Object properties\n",
        "\n",
        "person.name = \"JM\"\n",
        "print(person.name)\n",
        "person.myFunction()"
      ],
      "metadata": {
        "colab": {
          "base_uri": "https://localhost:8080/"
        },
        "id": "WB4kBSM4jK7f",
        "outputId": "20724bf2-af0b-47ec-8aca-fc023f1a68a2"
      },
      "execution_count": 12,
      "outputs": [
        {
          "output_type": "stream",
          "name": "stdout",
          "text": [
            "JM\n",
            "Hello my name is JM\n"
          ]
        }
      ]
    },
    {
      "cell_type": "code",
      "source": [
        "#deletion of Object Properties\n",
        "del person.age\n",
        "person.myFunction()\n",
        "print(person.name)"
      ],
      "metadata": {
        "colab": {
          "base_uri": "https://localhost:8080/"
        },
        "id": "IJyg0SfHkUlQ",
        "outputId": "ba7a285d-c8e3-4370-d55a-f15efd43f2ef"
      },
      "execution_count": 13,
      "outputs": [
        {
          "output_type": "stream",
          "name": "stdout",
          "text": [
            "Hello my name is JM\n",
            "JM\n"
          ]
        }
      ]
    },
    {
      "cell_type": "code",
      "source": [
        "#compute for the area of the square\n",
        "\n",
        "class cube:\n",
        "  def __init__(self,sides):\n",
        "    self.sides=sides\n",
        "  def area(self):\n",
        "    return self.sides*self.sides\n",
        "  def display(self):\n",
        "    print(\"The area of the square is\",self.area())\n",
        "square=cube(4)\n",
        "square.display()\n"
      ],
      "metadata": {
        "colab": {
          "base_uri": "https://localhost:8080/"
        },
        "id": "s0ifYqosk27-",
        "outputId": "a1d4aae1-35ab-40c1-ae86-bf036432737e"
      },
      "execution_count": 16,
      "outputs": [
        {
          "output_type": "stream",
          "name": "stdout",
          "text": [
            "The area of the square is 16\n"
          ]
        }
      ]
    },
    {
      "cell_type": "code",
      "source": [
        "#Create a python program with the following:\n",
        "#student as class name\n",
        "#fullname, student number, and school as attribute names\n",
        "#construct a method to display the values of attributes\n",
        "#use student as object name\n",
        "\n",
        "class Person:\n",
        "    def __init__(self,Fullname,StudentNum,school):\n",
        "      self.name=Fullname\n",
        "      self.num=StudentNum\n",
        "      self.school=school\n",
        "    def myFunc(self):\n",
        "      print(\"Hello my name is\",self.name)\n",
        "      print(\"My student number is\",self.num)\n",
        "      print(\"I study at\",self.school)\n",
        "\n",
        "identity = Person(\"Juan Miguel A. Ferreras\", \"202215691\", \"Adamson University\")\n",
        "identity.myFunc()"
      ],
      "metadata": {
        "colab": {
          "base_uri": "https://localhost:8080/"
        },
        "id": "5LSVgkafnPPz",
        "outputId": "c36ed6c5-afee-4988-c46e-f91bc0371090"
      },
      "execution_count": 19,
      "outputs": [
        {
          "output_type": "stream",
          "name": "stdout",
          "text": [
            "Hello my name is Juan Miguel A. Ferreras\n",
            "My student number is 202215691\n",
            "I study at Adamson University\n"
          ]
        }
      ]
    },
    {
      "cell_type": "markdown",
      "source": [],
      "metadata": {
        "id": "avtS3mHBkj53"
      }
    }
  ]
}