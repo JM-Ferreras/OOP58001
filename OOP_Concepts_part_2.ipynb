{
  "nbformat": 4,
  "nbformat_minor": 0,
  "metadata": {
    "colab": {
      "provenance": [],
      "authorship_tag": "ABX9TyNa8grOOw49GBRjIyGQmGdl",
      "include_colab_link": true
    },
    "kernelspec": {
      "name": "python3",
      "display_name": "Python 3"
    },
    "language_info": {
      "name": "python"
    }
  },
  "cells": [
    {
      "cell_type": "markdown",
      "metadata": {
        "id": "view-in-github",
        "colab_type": "text"
      },
      "source": [
        "<a href=\"https://colab.research.google.com/github/JM-Ferreras/OOP58001/blob/main/OOP_Concepts_part_2.ipynb\" target=\"_parent\"><img src=\"https://colab.research.google.com/assets/colab-badge.svg\" alt=\"Open In Colab\"/></a>"
      ]
    },
    {
      "cell_type": "code",
      "execution_count": 42,
      "metadata": {
        "colab": {
          "base_uri": "https://localhost:8080/"
        },
        "id": "sE3cBnTKWvGd",
        "outputId": "6a41d01f-c89f-431c-d6fa-bdc94870335e"
      },
      "outputs": [
        {
          "output_type": "stream",
          "name": "stdout",
          "text": [
            "Emu is the national bird of the Philippines\n",
            "Common Crane flies above clouds\n",
            "Griffon Vulture flies above clouds\n"
          ]
        }
      ],
      "source": [
        "#Class with multiple objects\n",
        "class bird:\n",
        "  def __init__(self,bird_name):\n",
        "    self.bird_name=bird_name\n",
        "  def flying_birds(self):\n",
        "    print((self.bird_name), \"flies above clouds\")\n",
        "  def non_flying_birds(self):\n",
        "    print((self.bird_name), \"is the national bird of the Philippines\")\n",
        "\n",
        "vulture=bird(\"Griffon Vulture\")\n",
        "crane=bird(\"Common Crane\")\n",
        "emu=bird(\"Emu\")\n",
        "\n",
        "emu.non_flying_birds()\n",
        "crane.flying_birds()\n",
        "vulture.flying_birds()"
      ]
    },
    {
      "cell_type": "code",
      "source": [
        "#encapsulation\n",
        "class foo:\n",
        "  def __init__(self,a,b):\n",
        "    self.__a=a\n",
        "    self.__b=b\n",
        "  def add(self):\n",
        "    return self.__a + self.__b\n",
        "\n",
        "foo_object= foo(3,4)\n",
        "foo_object.add()\n",
        "foo_object.__a=5\n",
        "foo_object.add()"
      ],
      "metadata": {
        "colab": {
          "base_uri": "https://localhost:8080/"
        },
        "id": "ktvLBXzOY0pQ",
        "outputId": "dd580888-9a62-4c5d-99ad-837074595e23"
      },
      "execution_count": 16,
      "outputs": [
        {
          "output_type": "execute_result",
          "data": {
            "text/plain": [
              "7"
            ]
          },
          "metadata": {},
          "execution_count": 16
        }
      ]
    },
    {
      "cell_type": "code",
      "source": [
        "#increment\n",
        "class Counter:\n",
        "  def __init__(self):\n",
        "    self.current=0\n",
        "  def increment(self):\n",
        "    self.current +=1\n",
        "  def value(self):\n",
        "    return self.current\n",
        "  def reset(self):\n",
        "    self.current=0\n",
        "  def display(self):\n",
        "    print(self.current)\n",
        "output=Counter()\n",
        "output.display()"
      ],
      "metadata": {
        "colab": {
          "base_uri": "https://localhost:8080/"
        },
        "id": "cmV2PwR0bPVF",
        "outputId": "c2cf3e4a-e005-48f4-ce94-449dcec65910"
      },
      "execution_count": 45,
      "outputs": [
        {
          "output_type": "stream",
          "name": "stdout",
          "text": [
            "0\n"
          ]
        }
      ]
    },
    {
      "cell_type": "code",
      "source": [
        "#inheritance\n",
        "class Person:\n",
        "  def __init__(self,name,birthday):\n",
        "    self.__name=name\n",
        "    self.__birthday=birthday\n",
        "  def display(self):\n",
        "    print(\"My name is\", (self.name))\n",
        "    print(\"My birthday is\", self.birthday)\n",
        "\n",
        "class Student(Person):\n",
        "  pass\n",
        "class teacher(Person):\n",
        "  pass\n",
        "\n",
        "student=Student(\"Jesus\",\"December 25\")\n",
        "student.display()\n",
        "teacher=teacher(\"Ana\", \"Jan 2\")\n",
        "teacher.display()"
      ],
      "metadata": {
        "colab": {
          "base_uri": "https://localhost:8080/"
        },
        "id": "mmgymXzjfDMP",
        "outputId": "ab6e6dcb-1c61-4298-ed67-5e0ac2f5b4d4"
      },
      "execution_count": 30,
      "outputs": [
        {
          "output_type": "stream",
          "name": "stdout",
          "text": [
            "My name is Jesus\n",
            "My birthday is December 25\n",
            "My name is Ana\n",
            "My birthday is Jan 2\n"
          ]
        }
      ]
    },
    {
      "cell_type": "code",
      "source": [
        "#create a class name Shapes (5shapes)\n",
        "#attributes sides\n",
        "#create a function/method that displays the:\n",
        "#number of sides of each shape\n",
        "#apply inheritance and encapsulation\n",
        "class Shapes:\n",
        "  def __init__(self,sidename,sidenum):\n",
        "    self.sidename=sidename\n",
        "    self.sidenum=sidenum\n",
        "  def display(self):\n",
        "    print(self.sidename,(\"has\"),self.sidenum,(\"sides\"))\n",
        "\n",
        "class Square(Shapes):\n",
        "  pass\n",
        "class Pentagon(Shapes):\n",
        "  pass\n",
        "class Hexagon(Shapes):\n",
        "  pass\n",
        "class Heptagon(Shapes):\n",
        "  pass\n",
        "class Octagon(Shapes):\n",
        "  pass\n",
        "\n",
        "shape1=Square(\"Square\",\"4\")\n",
        "shape1.display()\n",
        "shape2=Pentagon(\"Pentagon\",\"5\")\n",
        "shape2.display()\n",
        "shape3=Hexagon(\"Hexagon\",\"6\")\n",
        "shape3.display()\n",
        "shape4=Heptagon(\"Heptagon\",\"7\")\n",
        "shape4.display()\n",
        "shape5=Octagon(\"Octagon\",\"8\")\n",
        "shape5.display()"
      ],
      "metadata": {
        "colab": {
          "base_uri": "https://localhost:8080/"
        },
        "id": "f5ucz_eMiot1",
        "outputId": "b422b6ab-4df1-4e56-9205-eaa4059ba6e3"
      },
      "execution_count": 38,
      "outputs": [
        {
          "output_type": "stream",
          "name": "stdout",
          "text": [
            "Square has 4 sides\n",
            "Pentagon has 5 sides\n",
            "Hexagon has 6 sides\n",
            "Heptagon has 7 sides\n",
            "Octagon has 8 sides\n"
          ]
        }
      ]
    }
  ]
}