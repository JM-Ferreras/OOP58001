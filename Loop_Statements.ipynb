{
  "nbformat": 4,
  "nbformat_minor": 0,
  "metadata": {
    "colab": {
      "provenance": [],
      "authorship_tag": "ABX9TyPtDFV6epXwzyD7B35nranB",
      "include_colab_link": true
    },
    "kernelspec": {
      "name": "python3",
      "display_name": "Python 3"
    },
    "language_info": {
      "name": "python"
    }
  },
  "cells": [
    {
      "cell_type": "markdown",
      "metadata": {
        "id": "view-in-github",
        "colab_type": "text"
      },
      "source": [
        "<a href=\"https://colab.research.google.com/github/JM-Ferreras/OOP58001/blob/main/Loop_Statements.ipynb\" target=\"_parent\"><img src=\"https://colab.research.google.com/assets/colab-badge.svg\" alt=\"Open In Colab\"/></a>"
      ]
    },
    {
      "cell_type": "markdown",
      "source": [
        "**Loop**"
      ],
      "metadata": {
        "id": "-rVLT0mucuCG"
      }
    },
    {
      "cell_type": "code",
      "execution_count": null,
      "metadata": {
        "colab": {
          "base_uri": "https://localhost:8080/"
        },
        "id": "BDfXL2laY8eo",
        "outputId": "ab3eca71-45f7-4d84-aab4-861bf1f825e7"
      },
      "outputs": [
        {
          "output_type": "stream",
          "name": "stdout",
          "text": [
            "Sunday\n",
            "Monday\n",
            "Tuesday\n",
            "Wednesday\n",
            "Thursday\n"
          ]
        }
      ],
      "source": [
        "week = [\"Sunday\",\"Monday\",\"Tuesday\",\"Wednesday\",\"Thursday\",\"Friday\",\"Saturday\"]\n",
        "for x in week:\n",
        "  print(x)\n",
        "  if x==\"Thursday\":\n",
        "    break"
      ]
    },
    {
      "cell_type": "markdown",
      "source": [
        "**Break**"
      ],
      "metadata": {
        "id": "UALxFSZPb-IW"
      }
    },
    {
      "cell_type": "code",
      "source": [
        "week = [\"Sunday\",\"Monday\",\"Tuesday\",\"Wednesday\",\"Thursday\",\"Friday\",\"Saturday\"]\n",
        "for x in week:\n",
        "  if x==\"Thursday\":\n",
        "    break\n",
        "  print(x)"
      ],
      "metadata": {
        "colab": {
          "base_uri": "https://localhost:8080/"
        },
        "id": "8Ajy4hJRbAyR",
        "outputId": "d61ee087-d795-4b8b-fd22-6adf39270696"
      },
      "execution_count": null,
      "outputs": [
        {
          "output_type": "stream",
          "name": "stdout",
          "text": [
            "Sunday\n",
            "Monday\n",
            "Tuesday\n",
            "Wednesday\n"
          ]
        }
      ]
    },
    {
      "cell_type": "code",
      "source": [
        "week = [\"Sunday\",\"Monday\",\"Tuesday\",\"Wednesday\",\"Thursday\",\"Friday\",\"Saturday\"]\n",
        "for x in week:\n",
        "  if x==\"Thursday\":\n",
        "    print(x)\n",
        "    break"
      ],
      "metadata": {
        "colab": {
          "base_uri": "https://localhost:8080/"
        },
        "id": "K9poxeQRca9O",
        "outputId": "899b47d6-54a3-402b-abc6-e309ebb8ce72"
      },
      "execution_count": null,
      "outputs": [
        {
          "output_type": "stream",
          "name": "stdout",
          "text": [
            "Tuesday\n"
          ]
        }
      ]
    },
    {
      "cell_type": "code",
      "source": [
        "week = [\"Sunday\",\"Monday\",\"Tuesday\",\"Wednesday\",\"Thursday\",\"Friday\",\"Saturday\"]\n",
        "for x in week:\n",
        "  if x==\"Tuesday\":\n",
        "    print(x)\n",
        "  elif x==\"Thursday\":\n",
        "    print(x)\n",
        "    break"
      ],
      "metadata": {
        "colab": {
          "base_uri": "https://localhost:8080/"
        },
        "id": "fT7A5fldlLut",
        "outputId": "7a447a36-36cc-4196-bd07-cc79445595f0"
      },
      "execution_count": 62,
      "outputs": [
        {
          "output_type": "stream",
          "name": "stdout",
          "text": [
            "Tuesday\n",
            "Thursday\n"
          ]
        }
      ]
    },
    {
      "cell_type": "markdown",
      "source": [
        "**Looping through a string**"
      ],
      "metadata": {
        "id": "LO64Esjvd60V"
      }
    },
    {
      "cell_type": "code",
      "source": [
        "for x in \"week\":\n",
        "  print(x)"
      ],
      "metadata": {
        "colab": {
          "base_uri": "https://localhost:8080/"
        },
        "id": "Uns02ta2d9g8",
        "outputId": "42fe1402-f65a-479f-d8f5-e224715592cf"
      },
      "execution_count": null,
      "outputs": [
        {
          "output_type": "stream",
          "name": "stdout",
          "text": [
            "w\n",
            "e\n",
            "e\n",
            "k\n"
          ]
        }
      ]
    },
    {
      "cell_type": "markdown",
      "source": [
        "**Nested Loops**"
      ],
      "metadata": {
        "id": "44jJSjr1eqkr"
      }
    },
    {
      "cell_type": "code",
      "source": [
        "adjective=[\"red\",\"big\",\"tasty\"]\n",
        "fruits=[\"apple\",\"banana\",\"cherry\"]\n",
        "\n",
        "for x in adjective:\n",
        "  for y in fruits:\n",
        "    print(x,y)\n"
      ],
      "metadata": {
        "colab": {
          "base_uri": "https://localhost:8080/"
        },
        "id": "AGMgSalqez8K",
        "outputId": "78838c17-fe29-49ad-837a-c88d4532f465"
      },
      "execution_count": null,
      "outputs": [
        {
          "output_type": "stream",
          "name": "stdout",
          "text": [
            "apple red\n",
            "apple big\n",
            "apple tasty\n",
            "banana red\n",
            "banana big\n",
            "banana tasty\n",
            "cherry red\n",
            "cherry big\n",
            "cherry tasty\n"
          ]
        }
      ]
    },
    {
      "cell_type": "markdown",
      "source": [
        "**Example 5**"
      ],
      "metadata": {
        "id": "BNn2TEK6gkCY"
      }
    },
    {
      "cell_type": "code",
      "source": [
        "i=1\n",
        "while i<6:\n",
        "  print(i)\n",
        "  i+=1 "
      ],
      "metadata": {
        "id": "5JWBLu0whrmA"
      },
      "execution_count": null,
      "outputs": []
    },
    {
      "cell_type": "markdown",
      "source": [
        "**While using break statement**"
      ],
      "metadata": {
        "id": "jVw7s34Bh2vu"
      }
    },
    {
      "cell_type": "code",
      "source": [
        "i=1\n",
        "while i<6:\n",
        "  print(i)\n",
        "  if i==3:\n",
        "    break\n",
        "  i+=1 "
      ],
      "metadata": {
        "colab": {
          "base_uri": "https://localhost:8080/"
        },
        "id": "ONaJemFagDxp",
        "outputId": "1aa350f6-11d7-4234-ee4b-e830626b147f"
      },
      "execution_count": null,
      "outputs": [
        {
          "output_type": "stream",
          "name": "stdout",
          "text": [
            "1\n",
            "2\n",
            "3\n"
          ]
        }
      ]
    },
    {
      "cell_type": "code",
      "source": [
        "i=1\n",
        "while i<6:\n",
        "\n",
        "  if i==3:\n",
        "    print(i)  #print only 3\n",
        "    break\n",
        "  i+=1"
      ],
      "metadata": {
        "colab": {
          "base_uri": "https://localhost:8080/"
        },
        "id": "8ddKGOzgiRSG",
        "outputId": "d66e6b90-0229-4c4b-9f57-ac8fc04b75b0"
      },
      "execution_count": null,
      "outputs": [
        {
          "output_type": "stream",
          "name": "stdout",
          "text": [
            "3\n"
          ]
        }
      ]
    },
    {
      "cell_type": "markdown",
      "source": [
        "**While**"
      ],
      "metadata": {
        "id": "5v4ATauUiykO"
      }
    },
    {
      "cell_type": "code",
      "source": [
        "i=1\n",
        "while i<6:\n",
        "  print(i)\n",
        "  i+=1\n",
        "else:\n",
        "  print(\"i is no longer less than 6\")"
      ],
      "metadata": {
        "colab": {
          "base_uri": "https://localhost:8080/"
        },
        "id": "nrWK-GJviy9H",
        "outputId": "3891c710-b9da-4d98-efc8-8f4fb8e1553b"
      },
      "execution_count": null,
      "outputs": [
        {
          "output_type": "stream",
          "name": "stdout",
          "text": [
            "1\n",
            "2\n",
            "3\n",
            "4\n",
            "5\n",
            "i is no longer less than 6\n"
          ]
        }
      ]
    },
    {
      "cell_type": "markdown",
      "source": [
        "**Application 1**"
      ],
      "metadata": {
        "id": "1mfN9Ud4kceN"
      }
    },
    {
      "cell_type": "code",
      "source": [
        "i=0\n",
        "while i<11:\n",
        "  print(\"hello\", i)\n",
        "  i+=1"
      ],
      "metadata": {
        "id": "w0Fvugz0jXcm",
        "colab": {
          "base_uri": "https://localhost:8080/"
        },
        "outputId": "78522be5-ffef-4382-c288-ed617ebc543e"
      },
      "execution_count": 51,
      "outputs": [
        {
          "output_type": "stream",
          "name": "stdout",
          "text": [
            "hello 0\n",
            "hello 1\n",
            "hello 2\n",
            "hello 3\n",
            "hello 4\n",
            "hello 5\n",
            "hello 6\n",
            "hello 7\n",
            "hello 8\n",
            "hello 9\n",
            "hello 10\n"
          ]
        }
      ]
    },
    {
      "cell_type": "markdown",
      "source": [
        "**Application 2**"
      ],
      "metadata": {
        "id": "MsFY_iDRgngg"
      }
    },
    {
      "cell_type": "code",
      "source": [
        "i=3\n",
        "while i<10:\n",
        "  print(i)\n",
        "  i+=1"
      ],
      "metadata": {
        "id": "0CIQ84dpij0W",
        "colab": {
          "base_uri": "https://localhost:8080/"
        },
        "outputId": "e028ebd1-4f6d-4810-f47d-84bd64dde414"
      },
      "execution_count": 56,
      "outputs": [
        {
          "output_type": "stream",
          "name": "stdout",
          "text": [
            "3\n",
            "4\n",
            "5\n",
            "6\n",
            "7\n",
            "8\n",
            "9\n"
          ]
        }
      ]
    },
    {
      "cell_type": "markdown",
      "source": [
        "****"
      ],
      "metadata": {
        "id": "6Do6IS-Pc0IG"
      }
    }
  ]
}