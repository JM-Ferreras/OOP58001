{
  "nbformat": 4,
  "nbformat_minor": 0,
  "metadata": {
    "colab": {
      "provenance": [],
      "authorship_tag": "ABX9TyMMWIIkHD8pathg9IkTItdw",
      "include_colab_link": true
    },
    "kernelspec": {
      "name": "python3",
      "display_name": "Python 3"
    },
    "language_info": {
      "name": "python"
    }
  },
  "cells": [
    {
      "cell_type": "markdown",
      "metadata": {
        "id": "view-in-github",
        "colab_type": "text"
      },
      "source": [
        "<a href=\"https://colab.research.google.com/github/JM-Ferreras/OOP58001/blob/main/Hands_on_No_1.ipynb\" target=\"_parent\"><img src=\"https://colab.research.google.com/assets/colab-badge.svg\" alt=\"Open In Colab\"/></a>"
      ]
    },
    {
      "cell_type": "markdown",
      "source": [],
      "metadata": {
        "id": "HUah9ojwo_1x"
      }
    },
    {
      "cell_type": "code",
      "execution_count": 13,
      "metadata": {
        "colab": {
          "base_uri": "https://localhost:8080/"
        },
        "id": "sofJYQESaFdc",
        "outputId": "add54bea-5c6e-4a60-ef94-5a0716dbd949"
      },
      "outputs": [
        {
          "output_type": "stream",
          "name": "stdout",
          "text": [
            "The Prelim grade of Student 1 is 92\n",
            "The Prelim grade of Student 1 is 84\n",
            "The Prelim grade of Student 1 is 89\n",
            "Your average is 88\n"
          ]
        }
      ],
      "source": [
        "class Person:\n",
        "  def __init__(attr, std, pre, mid, fin):\n",
        "    attr.__std=std\n",
        "    attr.__prelim=pre\n",
        "    attr.__midterm=mid\n",
        "    attr.__final=fin\n",
        "  def display(attr):\n",
        "    print(\"The Prelim grade of Student\", attr.__std, \"is\", attr.__prelim,)\n",
        "    print(\"The Prelim grade of Student\", attr.__std, \"is\", attr.__midterm)\n",
        "    print(\"The Prelim grade of Student\", attr.__std, \"is\", attr.__final)\n",
        "  def Grade(attr):\n",
        "    print(\"Your average is\", int((attr.__prelim + attr.__midterm + attr.__final)/3))\n",
        "\n",
        "student1=Person(1,92,84,89)\n",
        "student1.display()\n",
        "student1.Grade()"
      ]
    },
    {
      "cell_type": "code",
      "source": [],
      "metadata": {
        "id": "42aVrgMXo-_r"
      },
      "execution_count": null,
      "outputs": []
    }
  ]
}