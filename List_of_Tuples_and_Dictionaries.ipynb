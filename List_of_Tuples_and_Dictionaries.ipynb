{
  "nbformat": 4,
  "nbformat_minor": 0,
  "metadata": {
    "colab": {
      "provenance": [],
      "authorship_tag": "ABX9TyPfmr2RN5j1Y5vGES2CPCis",
      "include_colab_link": true
    },
    "kernelspec": {
      "name": "python3",
      "display_name": "Python 3"
    },
    "language_info": {
      "name": "python"
    }
  },
  "cells": [
    {
      "cell_type": "markdown",
      "metadata": {
        "id": "view-in-github",
        "colab_type": "text"
      },
      "source": [
        "<a href=\"https://colab.research.google.com/github/JM-Ferreras/OOP58001/blob/main/List_of_Tuples_and_Dictionaries.ipynb\" target=\"_parent\"><img src=\"https://colab.research.google.com/assets/colab-badge.svg\" alt=\"Open In Colab\"/></a>"
      ]
    },
    {
      "cell_type": "code",
      "execution_count": 8,
      "metadata": {
        "colab": {
          "base_uri": "https://localhost:8080/"
        },
        "id": "RlvpYaDYIGgi",
        "outputId": "a8399557-21fc-4da0-a1a4-0d0cdc2a60c7"
      },
      "outputs": [
        {
          "output_type": "execute_result",
          "data": {
            "text/plain": [
              "90"
            ]
          },
          "metadata": {},
          "execution_count": 8
        }
      ],
      "source": [
        "class shapes:\n",
        "  def __init__(self,length,width):\n",
        "    self.length=length\n",
        "    self.width=width\n",
        "  def area(self):\n",
        "    return self.length*self.width\n",
        "  def areasqr(self):\n",
        "    return self.side**2\n",
        "rectangle=shapes(18,5)\n",
        "rectangle.area()"
      ]
    },
    {
      "cell_type": "code",
      "source": [
        "class shapes:\n",
        "  def __init__(self,side):\n",
        "    self.side=side\n",
        "  def areasqr(self):\n",
        "    return self.side**2\n",
        "square=shapes(5)\n",
        "square.areasqr()"
      ],
      "metadata": {
        "id": "FihCZy_mPmSF"
      },
      "execution_count": null,
      "outputs": []
    },
    {
      "cell_type": "code",
      "source": [
        "pow(10,2)\n",
        "array=[\"apple\",\"banana\",\"orange\"]\n",
        "array.insert(0,\"cherry\")\n",
        "print(array)"
      ],
      "metadata": {
        "colab": {
          "base_uri": "https://localhost:8080/"
        },
        "id": "xOOXxcjGPuUL",
        "outputId": "f2d51256-942a-47a0-cc08-412e81aae807"
      },
      "execution_count": 26,
      "outputs": [
        {
          "output_type": "stream",
          "name": "stdout",
          "text": [
            "['cherry', 'apple', 'banana', 'orange']\n"
          ]
        }
      ]
    },
    {
      "cell_type": "markdown",
      "source": [
        "**Name and Age**"
      ],
      "metadata": {
        "id": "POxUqCPsYov6"
      }
    },
    {
      "cell_type": "code",
      "source": [
        "class Person:\n",
        "  def __init__(self, name, age):\n",
        "    self.name=name\n",
        "    self.age=age\n",
        "  def name_age (self):\n",
        "    return self.name + self.age\n",
        "\n",
        "identity=Person(\"Juan Miguel A. Ferreras\",\" 19 years old\")\n",
        "identity.name_age()"
      ],
      "metadata": {
        "colab": {
          "base_uri": "https://localhost:8080/",
          "height": 35
        },
        "id": "xFAot4yzSea2",
        "outputId": "d4d7b11f-82c2-4284-b611-c104828ac014"
      },
      "execution_count": 15,
      "outputs": [
        {
          "output_type": "execute_result",
          "data": {
            "text/plain": [
              "'Juan Miguel A. Ferreras 19 years old'"
            ],
            "application/vnd.google.colaboratory.intrinsic+json": {
              "type": "string"
            }
          },
          "metadata": {},
          "execution_count": 15
        }
      ]
    },
    {
      "cell_type": "markdown",
      "source": [
        "**List**"
      ],
      "metadata": {
        "id": "52cb6MIGYer6"
      }
    },
    {
      "cell_type": "code",
      "source": [
        "pi=3.14159\n",
        "varlist = ['abc',1,'def',2]\n",
        "print(varlist[0])\n",
        "\n",
        "varlist.append('ghi')\n",
        "print(varlist)\n",
        "varlist.remove(2)\n",
        "print(varlist)\n",
        "varlist.insert(3,3)\n",
        "print(varlist)"
      ],
      "metadata": {
        "colab": {
          "base_uri": "https://localhost:8080/"
        },
        "id": "0mTK398XU1fY",
        "outputId": "e7cce52c-6734-4cfd-fb7a-caa6a3facf57"
      },
      "execution_count": 29,
      "outputs": [
        {
          "output_type": "stream",
          "name": "stdout",
          "text": [
            "abc\n",
            "['abc', 1, 'def', 2, 'ghi']\n",
            "['abc', 1, 'def', 'ghi']\n",
            "['abc', 1, 'def', 3, 'ghi']\n"
          ]
        }
      ]
    },
    {
      "cell_type": "markdown",
      "source": [
        "**Dictionaries**"
      ],
      "metadata": {
        "id": "G3KorZ2xYY2Y"
      }
    },
    {
      "cell_type": "code",
      "source": [
        "students = {\n",
        "            1:\"ana\",\n",
        "            2:\"billy\",\n",
        "            3:\"maria\",\n",
        "            4:\"joy\",\n",
        "            3:\"bessy\"\n",
        "}\n",
        "print(students)"
      ],
      "metadata": {
        "colab": {
          "base_uri": "https://localhost:8080/"
        },
        "id": "tzBR-ldFVVd4",
        "outputId": "3c7bf5d4-437b-4d1e-f07c-f792456a9da1"
      },
      "execution_count": 25,
      "outputs": [
        {
          "output_type": "stream",
          "name": "stdout",
          "text": [
            "{1: 'ana', 2: 'billy', 3: 'bessy', 4: 'joy'}\n"
          ]
        }
      ]
    }
  ]
}